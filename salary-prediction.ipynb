{
 "cells": [
  {
   "cell_type": "markdown",
   "metadata": {},
   "source": [
    "Import necessary libraries"
   ]
  },
  {
   "cell_type": "code",
   "execution_count": 3,
   "metadata": {},
   "outputs": [],
   "source": [
    "import pandas as pd\n",
    "import matplotlib.pyplot as plt\n",
    "from sklearn.model_selection import train_test_split\n",
    "from sklearn.feature_extraction import DictVectorizer\n",
    "from sklearn.linear_model import LinearRegression\n",
    "from sklearn.metrics import mean_squared_error"
   ]
  },
  {
   "cell_type": "markdown",
   "metadata": {},
   "source": [
    "Load the employee data"
   ]
  },
  {
   "cell_type": "code",
   "execution_count": 4,
   "metadata": {},
   "outputs": [],
   "source": [
    "data = pd.read_csv('employee_data.csv')"
   ]
  },
  {
   "cell_type": "markdown",
   "metadata": {},
   "source": [
    "Split the data into training and validation sets (50% split)"
   ]
  },
  {
   "cell_type": "code",
   "execution_count": 5,
   "metadata": {},
   "outputs": [
    {
     "name": "stdout",
     "output_type": "stream",
     "text": [
      "Total rows: 400\n",
      "Training rows: 200\n",
      "Validation rows: 200\n"
     ]
    }
   ],
   "source": [
    "train_data, val_data = train_test_split(data, test_size=0.5, random_state=42)\n",
    "\n",
    "# Display the number of rows in each dataset\n",
    "print(f'Total rows: {len(data)}')\n",
    "print(f'Training rows: {len(train_data)}')\n",
    "print(f'Validation rows: {len(val_data)}')\n",
    "\n",
    "# Save the split datasets into new CSV files\n",
    "train_data.to_csv('train_employee_data.csv', index=False)\n",
    "val_data.to_csv('val_employee_data.csv', index=False)"
   ]
  },
  {
   "cell_type": "markdown",
   "metadata": {},
   "source": [
    "STD and Distribution"
   ]
  },
  {
   "cell_type": "code",
   "execution_count": null,
   "metadata": {},
   "outputs": [],
   "source": []
  },
  {
   "cell_type": "code",
   "execution_count": 6,
   "metadata": {},
   "outputs": [
    {
     "data": {
      "text/html": [
       "<div>\n",
       "<style scoped>\n",
       "    .dataframe tbody tr th:only-of-type {\n",
       "        vertical-align: middle;\n",
       "    }\n",
       "\n",
       "    .dataframe tbody tr th {\n",
       "        vertical-align: top;\n",
       "    }\n",
       "\n",
       "    .dataframe thead th {\n",
       "        text-align: right;\n",
       "    }\n",
       "</style>\n",
       "<table border=\"1\" class=\"dataframe\">\n",
       "  <thead>\n",
       "    <tr style=\"text-align: right;\">\n",
       "      <th></th>\n",
       "      <th>ID</th>\n",
       "      <th>Gender</th>\n",
       "      <th>Experience (Years)</th>\n",
       "      <th>Position</th>\n",
       "      <th>Salary</th>\n",
       "    </tr>\n",
       "  </thead>\n",
       "  <tbody>\n",
       "    <tr>\n",
       "      <th>0</th>\n",
       "      <td>184</td>\n",
       "      <td>F</td>\n",
       "      <td>4</td>\n",
       "      <td>Database Administrator (DBA)</td>\n",
       "      <td>108860</td>\n",
       "    </tr>\n",
       "    <tr>\n",
       "      <th>1</th>\n",
       "      <td>204</td>\n",
       "      <td>F</td>\n",
       "      <td>14</td>\n",
       "      <td>Web Developer</td>\n",
       "      <td>148073</td>\n",
       "    </tr>\n",
       "    <tr>\n",
       "      <th>2</th>\n",
       "      <td>284</td>\n",
       "      <td>F</td>\n",
       "      <td>10</td>\n",
       "      <td>DevOps Engineer</td>\n",
       "      <td>130002</td>\n",
       "    </tr>\n",
       "    <tr>\n",
       "      <th>3</th>\n",
       "      <td>212</td>\n",
       "      <td>F</td>\n",
       "      <td>6</td>\n",
       "      <td>IT Support Specialist</td>\n",
       "      <td>78006</td>\n",
       "    </tr>\n",
       "    <tr>\n",
       "      <th>4</th>\n",
       "      <td>283</td>\n",
       "      <td>F</td>\n",
       "      <td>12</td>\n",
       "      <td>Web Developer</td>\n",
       "      <td>112825</td>\n",
       "    </tr>\n",
       "    <tr>\n",
       "      <th>...</th>\n",
       "      <td>...</td>\n",
       "      <td>...</td>\n",
       "      <td>...</td>\n",
       "      <td>...</td>\n",
       "      <td>...</td>\n",
       "    </tr>\n",
       "    <tr>\n",
       "      <th>195</th>\n",
       "      <td>72</td>\n",
       "      <td>F</td>\n",
       "      <td>5</td>\n",
       "      <td>Cloud Solutions Architect</td>\n",
       "      <td>110321</td>\n",
       "    </tr>\n",
       "    <tr>\n",
       "      <th>196</th>\n",
       "      <td>107</td>\n",
       "      <td>M</td>\n",
       "      <td>6</td>\n",
       "      <td>IT Security Analyst</td>\n",
       "      <td>135066</td>\n",
       "    </tr>\n",
       "    <tr>\n",
       "      <th>197</th>\n",
       "      <td>271</td>\n",
       "      <td>F</td>\n",
       "      <td>7</td>\n",
       "      <td>IT Manager</td>\n",
       "      <td>115263</td>\n",
       "    </tr>\n",
       "    <tr>\n",
       "      <th>198</th>\n",
       "      <td>349</td>\n",
       "      <td>M</td>\n",
       "      <td>9</td>\n",
       "      <td>Systems Administrator</td>\n",
       "      <td>115769</td>\n",
       "    </tr>\n",
       "    <tr>\n",
       "      <th>199</th>\n",
       "      <td>103</td>\n",
       "      <td>F</td>\n",
       "      <td>3</td>\n",
       "      <td>IT Support Specialist</td>\n",
       "      <td>90049</td>\n",
       "    </tr>\n",
       "  </tbody>\n",
       "</table>\n",
       "<p>200 rows × 5 columns</p>\n",
       "</div>"
      ],
      "text/plain": [
       "      ID Gender  Experience (Years)                      Position  Salary\n",
       "0    184      F                   4  Database Administrator (DBA)  108860\n",
       "1    204      F                  14                 Web Developer  148073\n",
       "2    284      F                  10               DevOps Engineer  130002\n",
       "3    212      F                   6         IT Support Specialist   78006\n",
       "4    283      F                  12                 Web Developer  112825\n",
       "..   ...    ...                 ...                           ...     ...\n",
       "195   72      F                   5     Cloud Solutions Architect  110321\n",
       "196  107      M                   6           IT Security Analyst  135066\n",
       "197  271      F                   7                    IT Manager  115263\n",
       "198  349      M                   9         Systems Administrator  115769\n",
       "199  103      F                   3         IT Support Specialist   90049\n",
       "\n",
       "[200 rows x 5 columns]"
      ]
     },
     "execution_count": 6,
     "metadata": {},
     "output_type": "execute_result"
    }
   ],
   "source": [
    "df = pd.read_csv('./train_employee_data.csv')\n",
    "df "
   ]
  },
  {
   "cell_type": "code",
   "execution_count": 7,
   "metadata": {},
   "outputs": [
    {
     "data": {
      "image/png": "[encoded data removed]",
      "text/plain": [
       "<Figure size 1000x600 with 1 Axes>"
      ]
     },
     "metadata": {},
     "output_type": "display_data"
    }
   ],
   "source": [
    "#Calculate and visualize the distribution of the 'Salary' variable\n",
    "plt.figure(figsize=(10, 6))\n",
    "df['Salary'].hist(bins=100)\n",
    "plt.xlabel('Salary')\n",
    "plt.ylabel('Frequency')\n",
    "plt.title('Distribution of Salary')\n",
    "plt.show()"
   ]
  },
  {
   "cell_type": "markdown",
   "metadata": {},
   "source": [
    "Train model"
   ]
  },
  {
   "cell_type": "code",
   "execution_count": 11,
   "metadata": {},
   "outputs": [
    {
     "name": "stdout",
     "output_type": "stream",
     "text": [
      "Number of columns in the feature matrix: 14\n"
     ]
    },
    {
     "data": {
      "text/plain": [
       "23715.209071728856"
      ]
     },
     "execution_count": 11,
     "metadata": {},
     "output_type": "execute_result"
    }
   ],
   "source": [
    "categorical = ['Gender', 'Position']\n",
    "numerical = ['Experience (Years)']\n",
    "train_dicts = df[categorical + numerical].to_dict(orient='records')\n",
    "\n",
    "dv = DictVectorizer()\n",
    "X_train = dv.fit_transform(train_dicts)\n",
    "\n",
    "num_columns = X_train.shape[1]\n",
    "print(\"Number of columns in the feature matrix:\", num_columns)\n",
    "\n",
    "target = 'Salary'\n",
    "y_train = df[target].values\n",
    "\n",
    "lr = LinearRegression()\n",
    "lr.fit(X_train, y_train)\n",
    "\n",
    "y_pred = lr.predict(X_train)\n",
    "\n",
    "mean_squared_error(y_train, y_pred, squared=False)\n",
    "\n"
   ]
  },
  {
   "cell_type": "markdown",
   "metadata": {},
   "source": [
    "Validate model"
   ]
  },
  {
   "cell_type": "code",
   "execution_count": 12,
   "metadata": {},
   "outputs": [
    {
     "data": {
      "text/plain": [
       "26234.270761334956"
      ]
     },
     "execution_count": 12,
     "metadata": {},
     "output_type": "execute_result"
    }
   ],
   "source": [
    "\n",
    "df_val = pd.read_csv('./val_employee_data.csv')\n",
    "val_dicts = df_val[categorical + numerical].to_dict(orient='records')\n",
    "\n",
    "X_val = dv.transform(val_dicts)\n",
    "\n",
    "y_val = df_val[target].values\n",
    "\n",
    "y_pred = lr.predict(X_val)\n",
    "\n",
    "mean_squared_error(y_val, y_pred, squared=False)\n"
   ]
  }
 ],
 "metadata": {
  "kernelspec": {
   "display_name": "base",
   "language": "python",
   "name": "python3"
  },
  "language_info": {
   "codemirror_mode": {
    "name": "ipython",
    "version": 3
   },
   "file_extension": ".py",
   "mimetype": "text/x-python",
   "name": "python",
   "nbconvert_exporter": "python",
   "pygments_lexer": "ipython3",
   "version": "3.11.7"
  }
 },
 "nbformat": 4,
 "nbformat_minor": 2
}
